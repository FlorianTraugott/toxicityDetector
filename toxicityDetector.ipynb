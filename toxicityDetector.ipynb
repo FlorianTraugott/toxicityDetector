{
  "nbformat": 4,
  "nbformat_minor": 0,
  "metadata": {
    "colab": {
      "provenance": []
    },
    "kernelspec": {
      "name": "python3",
      "display_name": "Python 3"
    },
    "language_info": {
      "name": "python"
    }
  },
  "cells": [
    {
      "cell_type": "code",
      "execution_count": null,
      "metadata": {
        "id": "I-1imnqcMQBw"
      },
      "outputs": [],
      "source": [
        "import os\n",
        "import tensorflow as tf\n",
        "import pandas as pd\n",
        "import numpy as np"
      ]
    },
    {
      "cell_type": "code",
      "source": [
        "dataset = pd.read_csv('sample_data/toxicityLevel.csv')"
      ],
      "metadata": {
        "id": "EEBBLOcSRDaC"
      },
      "execution_count": null,
      "outputs": []
    },
    {
      "cell_type": "code",
      "source": [
        "from tensorflow.keras.layers import TextVectorization"
      ],
      "metadata": {
        "id": "etnPMihrRPaX"
      },
      "execution_count": null,
      "outputs": []
    },
    {
      "cell_type": "code",
      "source": [
        "X = dataset['comment_text']\n",
        "y = dataset[dataset.columns[2:]].values"
      ],
      "metadata": {
        "id": "yy_139z9RY2H"
      },
      "execution_count": null,
      "outputs": []
    },
    {
      "cell_type": "code",
      "source": [
        "MAX_FEATURES = 200000"
      ],
      "metadata": {
        "id": "T8FY6LGcRpcX"
      },
      "execution_count": null,
      "outputs": []
    },
    {
      "cell_type": "code",
      "source": [
        "vectorizer = TextVectorization(max_tokens=MAX_FEATURES,\n",
        "                               output_sequence_length=1800,\n",
        "                               output_mode='int')"
      ],
      "metadata": {
        "id": "t1NAQYIjRu8w"
      },
      "execution_count": null,
      "outputs": []
    },
    {
      "cell_type": "code",
      "source": [
        "vectorizer.adapt(X.values)"
      ],
      "metadata": {
        "id": "AAyNwsQZThCo"
      },
      "execution_count": null,
      "outputs": []
    },
    {
      "cell_type": "code",
      "source": [
        "vectorizedText = vectorizer(X.values)"
      ],
      "metadata": {
        "id": "MurH-QN2TrIM"
      },
      "execution_count": null,
      "outputs": []
    },
    {
      "cell_type": "code",
      "source": [
        "ds = tf.data.Dataset.from_tensor_slices((vectorizedText, y))\n",
        "ds = ds.cache()\n",
        "ds = ds.shuffle(160000)\n",
        "ds = ds.batch(64)\n",
        "ds = ds.prefetch(8)"
      ],
      "metadata": {
        "id": "8inZmaWDTxM6"
      },
      "execution_count": null,
      "outputs": []
    },
    {
      "cell_type": "code",
      "source": [
        "train = ds.take(int(len(ds)*.7))\n",
        "val = ds.skip(int(len(ds)*.7)).take(int(len(ds)*.2))\n",
        "test = ds.skip(int(len(ds)*.9)).take(int(len(ds)*.1))"
      ],
      "metadata": {
        "id": "oMPk2f_jUfRt"
      },
      "execution_count": null,
      "outputs": []
    },
    {
      "cell_type": "code",
      "source": [
        "from tensorflow.keras.models import Sequential\n",
        "from tensorflow.keras.layers import LSTM, Dropout, Bidirectional, Dense, Embedding"
      ],
      "metadata": {
        "id": "hUkfX5t-U-SX"
      },
      "execution_count": null,
      "outputs": []
    },
    {
      "cell_type": "code",
      "source": [
        "model = Sequential()\n",
        "model.add(Embedding(MAX_FEATURES+1, 32))\n",
        "model.add(Bidirectional(LSTM(32, activation='tanh')))\n",
        "model.add(Dense(128, activation='relu'))\n",
        "model.add(Dense(256, activation='relu'))\n",
        "model.add(Dense(128, activation='relu'))\n",
        "model.add(Dense(6, activation='sigmoid'))"
      ],
      "metadata": {
        "id": "REgU49FaVVPk"
      },
      "execution_count": null,
      "outputs": []
    },
    {
      "cell_type": "code",
      "source": [
        "model.compile(loss='BinaryCrossentropy', optimizer='Adam')"
      ],
      "metadata": {
        "id": "V9Q9o1jDWMpP"
      },
      "execution_count": null,
      "outputs": []
    },
    {
      "cell_type": "code",
      "source": [
        "model.summary()"
      ],
      "metadata": {
        "colab": {
          "base_uri": "https://localhost:8080/"
        },
        "collapsed": true,
        "id": "xdrhLxTOWaWe",
        "outputId": "863eb99b-896e-4660-c74a-307f8650149e"
      },
      "execution_count": null,
      "outputs": [
        {
          "output_type": "stream",
          "name": "stdout",
          "text": [
            "Model: \"sequential\"\n",
            "_________________________________________________________________\n",
            " Layer (type)                Output Shape              Param #   \n",
            "=================================================================\n",
            " embedding (Embedding)       (None, None, 32)          6400032   \n",
            "                                                                 \n",
            " bidirectional (Bidirection  (None, 64)                16640     \n",
            " al)                                                             \n",
            "                                                                 \n",
            " dense (Dense)               (None, 128)               8320      \n",
            "                                                                 \n",
            " dense_1 (Dense)             (None, 256)               33024     \n",
            "                                                                 \n",
            " dense_2 (Dense)             (None, 128)               32896     \n",
            "                                                                 \n",
            " dense_3 (Dense)             (None, 6)                 774       \n",
            "                                                                 \n",
            "=================================================================\n",
            "Total params: 6491686 (24.76 MB)\n",
            "Trainable params: 6491686 (24.76 MB)\n",
            "Non-trainable params: 0 (0.00 Byte)\n",
            "_________________________________________________________________\n"
          ]
        }
      ]
    },
    {
      "cell_type": "code",
      "source": [
        "history = model.fit(train, epochs=1, validation_data=val)"
      ],
      "metadata": {
        "colab": {
          "base_uri": "https://localhost:8080/"
        },
        "id": "VaI5lvEqWmgx",
        "outputId": "f1a7c120-5ad1-489c-cc9a-457304bd5c9a"
      },
      "execution_count": null,
      "outputs": [
        {
          "output_type": "stream",
          "name": "stdout",
          "text": [
            "1745/1745 [==============================] - 4416s 3s/step - loss: 0.0696 - val_loss: 0.0458\n"
          ]
        }
      ]
    },
    {
      "cell_type": "code",
      "source": [
        "inputText = vectorizer('You freaking suck! You better watch your back pal cause I am coming to get you')"
      ],
      "metadata": {
        "id": "ur-xTEG8l3mZ"
      },
      "execution_count": null,
      "outputs": []
    },
    {
      "cell_type": "code",
      "source": [
        "res = model.predict(np.expand_dims(inputText, 0))"
      ],
      "metadata": {
        "colab": {
          "base_uri": "https://localhost:8080/"
        },
        "id": "Y0PrMTfMk_df",
        "outputId": "a752ae8f-734f-4e25-b96d-91c451c4e896"
      },
      "execution_count": null,
      "outputs": [
        {
          "output_type": "stream",
          "name": "stdout",
          "text": [
            "1/1 [==============================] - 1s 1s/step\n"
          ]
        }
      ]
    },
    {
      "cell_type": "code",
      "source": [
        "(res > 0.5).astype(int)"
      ],
      "metadata": {
        "colab": {
          "base_uri": "https://localhost:8080/"
        },
        "id": "-C9pDGculHda",
        "outputId": "ba38d199-c244-4c07-dcba-602969737158"
      },
      "execution_count": null,
      "outputs": [
        {
          "output_type": "execute_result",
          "data": {
            "text/plain": [
              "array([[1, 0, 1, 0, 1, 0]])"
            ]
          },
          "metadata": {},
          "execution_count": 26
        }
      ]
    },
    {
      "cell_type": "code",
      "source": [
        "batch_X, batch_y = test.as_numpy_iterator().next()"
      ],
      "metadata": {
        "id": "_z3j1lFYlLEs"
      },
      "execution_count": null,
      "outputs": []
    },
    {
      "cell_type": "code",
      "source": [
        "(model.predict(batch_X) > 0.5).astype(int)"
      ],
      "metadata": {
        "colab": {
          "base_uri": "https://localhost:8080/"
        },
        "collapsed": true,
        "id": "A2nAaIuRlNhh",
        "outputId": "ee2b3b5d-623d-4a91-9db7-20c54a8b76d9"
      },
      "execution_count": null,
      "outputs": [
        {
          "output_type": "stream",
          "name": "stdout",
          "text": [
            "2/2 [==============================] - 0s 232ms/step\n"
          ]
        },
        {
          "output_type": "execute_result",
          "data": {
            "text/plain": [
              "array([[0, 0, 0, 0, 0, 0],\n",
              "       [0, 0, 0, 0, 0, 0],\n",
              "       [0, 0, 0, 0, 0, 0],\n",
              "       [0, 0, 0, 0, 0, 0],\n",
              "       [0, 0, 0, 0, 0, 0],\n",
              "       [0, 0, 0, 0, 0, 0],\n",
              "       [0, 0, 0, 0, 0, 0],\n",
              "       [0, 0, 0, 0, 0, 0],\n",
              "       [0, 0, 0, 0, 0, 0],\n",
              "       [0, 0, 0, 0, 0, 0],\n",
              "       [0, 0, 0, 0, 0, 0],\n",
              "       [0, 0, 0, 0, 0, 0],\n",
              "       [0, 0, 0, 0, 0, 0],\n",
              "       [0, 0, 0, 0, 0, 0],\n",
              "       [0, 0, 0, 0, 0, 0],\n",
              "       [0, 0, 0, 0, 0, 0],\n",
              "       [0, 0, 0, 0, 0, 0],\n",
              "       [0, 0, 0, 0, 0, 0],\n",
              "       [0, 0, 0, 0, 0, 0],\n",
              "       [0, 0, 0, 0, 0, 0],\n",
              "       [0, 0, 0, 0, 0, 0],\n",
              "       [0, 0, 0, 0, 0, 0],\n",
              "       [0, 0, 0, 0, 0, 0],\n",
              "       [0, 0, 0, 0, 0, 0],\n",
              "       [0, 0, 0, 0, 0, 0],\n",
              "       [0, 0, 0, 0, 0, 0],\n",
              "       [1, 0, 0, 0, 0, 0],\n",
              "       [0, 0, 0, 0, 0, 0],\n",
              "       [0, 0, 0, 0, 0, 0],\n",
              "       [0, 0, 0, 0, 0, 0],\n",
              "       [0, 0, 0, 0, 0, 0],\n",
              "       [1, 0, 1, 0, 1, 0],\n",
              "       [0, 0, 0, 0, 0, 0],\n",
              "       [0, 0, 0, 0, 0, 0],\n",
              "       [0, 0, 0, 0, 0, 0],\n",
              "       [0, 0, 0, 0, 0, 0],\n",
              "       [0, 0, 0, 0, 0, 0],\n",
              "       [0, 0, 0, 0, 0, 0],\n",
              "       [0, 0, 0, 0, 0, 0],\n",
              "       [0, 0, 0, 0, 0, 0],\n",
              "       [0, 0, 0, 0, 0, 0],\n",
              "       [0, 0, 0, 0, 0, 0],\n",
              "       [1, 0, 1, 0, 1, 0],\n",
              "       [1, 0, 0, 0, 0, 0],\n",
              "       [1, 0, 1, 0, 1, 0],\n",
              "       [0, 0, 0, 0, 0, 0],\n",
              "       [0, 0, 0, 0, 0, 0],\n",
              "       [0, 0, 0, 0, 0, 0],\n",
              "       [0, 0, 0, 0, 0, 0],\n",
              "       [1, 0, 0, 0, 0, 0],\n",
              "       [0, 0, 0, 0, 0, 0],\n",
              "       [1, 0, 0, 0, 0, 0],\n",
              "       [0, 0, 0, 0, 0, 0],\n",
              "       [0, 0, 0, 0, 0, 0],\n",
              "       [1, 0, 0, 0, 0, 0],\n",
              "       [0, 0, 0, 0, 0, 0],\n",
              "       [0, 0, 0, 0, 0, 0],\n",
              "       [0, 0, 0, 0, 0, 0],\n",
              "       [0, 0, 0, 0, 0, 0],\n",
              "       [0, 0, 0, 0, 0, 0],\n",
              "       [0, 0, 0, 0, 0, 0],\n",
              "       [0, 0, 0, 0, 0, 0],\n",
              "       [0, 0, 0, 0, 0, 0],\n",
              "       [0, 0, 0, 0, 0, 0]])"
            ]
          },
          "metadata": {},
          "execution_count": 28
        }
      ]
    },
    {
      "cell_type": "code",
      "source": [
        "res.shape"
      ],
      "metadata": {
        "colab": {
          "base_uri": "https://localhost:8080/"
        },
        "id": "dXQaBKsslQ_z",
        "outputId": "b674b89c-beea-42f7-c64a-dcef618752f7"
      },
      "execution_count": null,
      "outputs": [
        {
          "output_type": "execute_result",
          "data": {
            "text/plain": [
              "(1, 6)"
            ]
          },
          "metadata": {},
          "execution_count": 29
        }
      ]
    },
    {
      "cell_type": "code",
      "source": [
        "from tensorflow.keras.metrics import Precision, Recall, CategoricalAccuracy"
      ],
      "metadata": {
        "id": "tnSe5zqhpS7J"
      },
      "execution_count": null,
      "outputs": []
    },
    {
      "cell_type": "code",
      "source": [
        "pre = Precision()\n",
        "re = Recall()\n",
        "acc = CategoricalAccuracy()"
      ],
      "metadata": {
        "id": "TlP0t7LDpbON"
      },
      "execution_count": null,
      "outputs": []
    },
    {
      "cell_type": "code",
      "source": [
        "for batch in test.as_numpy_iterator():\n",
        "  XTrue, yTrue = batch\n",
        "  yHat = model.predict(XTrue)\n",
        "  yTrue = yTrue.flatten()\n",
        "  yHat = yHat.flatten()\n",
        "  pre.update_state(yTrue, yHat)\n",
        "  pre.update_state(yTrue, yHat)\n",
        "  acc.update_state(yTrue, yHat)"
      ],
      "metadata": {
        "colab": {
          "base_uri": "https://localhost:8080/"
        },
        "collapsed": true,
        "id": "JoHcaBAJpkYr",
        "outputId": "9f39885a-dafc-419e-c736-8924dfcf73b5"
      },
      "execution_count": null,
      "outputs": [
        {
          "output_type": "stream",
          "name": "stdout",
          "text": [
            "2/2 [==============================] - 0s 230ms/step\n",
            "2/2 [==============================] - 1s 246ms/step\n",
            "2/2 [==============================] - 0s 239ms/step\n",
            "2/2 [==============================] - 0s 224ms/step\n",
            "2/2 [==============================] - 0s 230ms/step\n",
            "2/2 [==============================] - 1s 268ms/step\n",
            "2/2 [==============================] - 1s 403ms/step\n",
            "2/2 [==============================] - 1s 370ms/step\n",
            "2/2 [==============================] - 1s 387ms/step\n",
            "2/2 [==============================] - 1s 256ms/step\n",
            "2/2 [==============================] - 0s 236ms/step\n",
            "2/2 [==============================] - 1s 254ms/step\n",
            "2/2 [==============================] - 0s 223ms/step\n",
            "2/2 [==============================] - 0s 238ms/step\n",
            "2/2 [==============================] - 0s 231ms/step\n",
            "2/2 [==============================] - 0s 222ms/step\n",
            "2/2 [==============================] - 0s 220ms/step\n",
            "2/2 [==============================] - 0s 220ms/step\n",
            "2/2 [==============================] - 0s 248ms/step\n",
            "2/2 [==============================] - 0s 227ms/step\n",
            "2/2 [==============================] - 0s 230ms/step\n",
            "2/2 [==============================] - 0s 249ms/step\n",
            "2/2 [==============================] - 0s 234ms/step\n",
            "2/2 [==============================] - 0s 245ms/step\n",
            "2/2 [==============================] - 0s 226ms/step\n",
            "2/2 [==============================] - 1s 387ms/step\n",
            "2/2 [==============================] - 1s 441ms/step\n",
            "2/2 [==============================] - 1s 434ms/step\n",
            "2/2 [==============================] - 0s 231ms/step\n",
            "2/2 [==============================] - 0s 226ms/step\n",
            "2/2 [==============================] - 0s 250ms/step\n",
            "2/2 [==============================] - 0s 225ms/step\n",
            "2/2 [==============================] - 0s 223ms/step\n",
            "2/2 [==============================] - 0s 227ms/step\n",
            "2/2 [==============================] - 0s 226ms/step\n",
            "2/2 [==============================] - 0s 247ms/step\n",
            "2/2 [==============================] - 0s 241ms/step\n",
            "2/2 [==============================] - 1s 240ms/step\n",
            "2/2 [==============================] - 0s 241ms/step\n",
            "2/2 [==============================] - 0s 230ms/step\n",
            "2/2 [==============================] - 0s 229ms/step\n",
            "2/2 [==============================] - 0s 226ms/step\n",
            "2/2 [==============================] - 0s 224ms/step\n",
            "2/2 [==============================] - 1s 371ms/step\n",
            "2/2 [==============================] - 1s 380ms/step\n",
            "2/2 [==============================] - 1s 353ms/step\n",
            "2/2 [==============================] - 1s 398ms/step\n",
            "2/2 [==============================] - 1s 311ms/step\n",
            "2/2 [==============================] - 0s 236ms/step\n",
            "2/2 [==============================] - 0s 232ms/step\n",
            "2/2 [==============================] - 1s 303ms/step\n",
            "2/2 [==============================] - 1s 393ms/step\n",
            "2/2 [==============================] - 1s 383ms/step\n",
            "2/2 [==============================] - 1s 386ms/step\n",
            "2/2 [==============================] - 1s 335ms/step\n",
            "2/2 [==============================] - 0s 223ms/step\n",
            "2/2 [==============================] - 0s 217ms/step\n",
            "2/2 [==============================] - 0s 228ms/step\n",
            "2/2 [==============================] - 0s 226ms/step\n",
            "2/2 [==============================] - 0s 221ms/step\n",
            "2/2 [==============================] - 1s 361ms/step\n",
            "2/2 [==============================] - 1s 381ms/step\n",
            "2/2 [==============================] - 1s 342ms/step\n",
            "2/2 [==============================] - 0s 238ms/step\n",
            "2/2 [==============================] - 0s 219ms/step\n",
            "2/2 [==============================] - 0s 233ms/step\n",
            "2/2 [==============================] - 0s 243ms/step\n",
            "2/2 [==============================] - 0s 238ms/step\n",
            "2/2 [==============================] - 0s 246ms/step\n",
            "2/2 [==============================] - 0s 233ms/step\n",
            "2/2 [==============================] - 0s 247ms/step\n",
            "2/2 [==============================] - 0s 226ms/step\n",
            "2/2 [==============================] - 0s 224ms/step\n",
            "2/2 [==============================] - 0s 226ms/step\n",
            "2/2 [==============================] - 0s 219ms/step\n",
            "2/2 [==============================] - 0s 234ms/step\n",
            "2/2 [==============================] - 0s 220ms/step\n",
            "2/2 [==============================] - 0s 220ms/step\n",
            "2/2 [==============================] - 0s 246ms/step\n",
            "2/2 [==============================] - 1s 348ms/step\n",
            "2/2 [==============================] - 1s 365ms/step\n",
            "2/2 [==============================] - 1s 463ms/step\n",
            "2/2 [==============================] - 1s 316ms/step\n",
            "2/2 [==============================] - 0s 252ms/step\n",
            "2/2 [==============================] - 1s 255ms/step\n",
            "2/2 [==============================] - 1s 223ms/step\n",
            "2/2 [==============================] - 0s 231ms/step\n",
            "2/2 [==============================] - 0s 217ms/step\n",
            "2/2 [==============================] - 0s 256ms/step\n",
            "2/2 [==============================] - 0s 225ms/step\n",
            "2/2 [==============================] - 0s 240ms/step\n",
            "2/2 [==============================] - 0s 223ms/step\n",
            "2/2 [==============================] - 0s 245ms/step\n",
            "2/2 [==============================] - 1s 259ms/step\n",
            "2/2 [==============================] - 0s 223ms/step\n",
            "2/2 [==============================] - 0s 229ms/step\n",
            "2/2 [==============================] - 0s 234ms/step\n",
            "2/2 [==============================] - 0s 239ms/step\n",
            "2/2 [==============================] - 1s 344ms/step\n",
            "2/2 [==============================] - 1s 418ms/step\n",
            "2/2 [==============================] - 1s 458ms/step\n",
            "2/2 [==============================] - 1s 305ms/step\n",
            "2/2 [==============================] - 0s 226ms/step\n",
            "2/2 [==============================] - 1s 383ms/step\n",
            "2/2 [==============================] - 1s 438ms/step\n",
            "2/2 [==============================] - 0s 216ms/step\n",
            "2/2 [==============================] - 1s 257ms/step\n",
            "2/2 [==============================] - 1s 251ms/step\n",
            "2/2 [==============================] - 0s 229ms/step\n",
            "2/2 [==============================] - 0s 224ms/step\n",
            "2/2 [==============================] - 0s 244ms/step\n",
            "2/2 [==============================] - 0s 225ms/step\n",
            "2/2 [==============================] - 0s 230ms/step\n",
            "2/2 [==============================] - 0s 230ms/step\n",
            "2/2 [==============================] - 0s 244ms/step\n",
            "2/2 [==============================] - 1s 409ms/step\n",
            "2/2 [==============================] - 1s 368ms/step\n",
            "2/2 [==============================] - 1s 264ms/step\n",
            "2/2 [==============================] - 0s 230ms/step\n",
            "2/2 [==============================] - 0s 230ms/step\n",
            "2/2 [==============================] - 0s 220ms/step\n",
            "2/2 [==============================] - 0s 235ms/step\n",
            "2/2 [==============================] - 0s 230ms/step\n",
            "2/2 [==============================] - 0s 228ms/step\n",
            "2/2 [==============================] - 0s 224ms/step\n",
            "2/2 [==============================] - 0s 223ms/step\n",
            "2/2 [==============================] - 0s 232ms/step\n",
            "2/2 [==============================] - 0s 229ms/step\n",
            "2/2 [==============================] - 0s 236ms/step\n",
            "2/2 [==============================] - 0s 233ms/step\n",
            "2/2 [==============================] - 0s 218ms/step\n",
            "2/2 [==============================] - 0s 225ms/step\n",
            "2/2 [==============================] - 0s 238ms/step\n",
            "2/2 [==============================] - 1s 277ms/step\n",
            "2/2 [==============================] - 1s 400ms/step\n",
            "2/2 [==============================] - 1s 443ms/step\n",
            "2/2 [==============================] - 1s 230ms/step\n",
            "2/2 [==============================] - 0s 234ms/step\n",
            "2/2 [==============================] - 0s 226ms/step\n",
            "2/2 [==============================] - 0s 225ms/step\n",
            "2/2 [==============================] - 1s 257ms/step\n",
            "2/2 [==============================] - 1s 275ms/step\n",
            "2/2 [==============================] - 1s 416ms/step\n",
            "2/2 [==============================] - 1s 379ms/step\n",
            "2/2 [==============================] - 1s 406ms/step\n",
            "2/2 [==============================] - 1s 228ms/step\n",
            "2/2 [==============================] - 0s 222ms/step\n",
            "2/2 [==============================] - 0s 238ms/step\n",
            "2/2 [==============================] - 0s 234ms/step\n",
            "2/2 [==============================] - 0s 242ms/step\n",
            "2/2 [==============================] - 1s 329ms/step\n",
            "2/2 [==============================] - 1s 384ms/step\n",
            "2/2 [==============================] - 1s 353ms/step\n",
            "2/2 [==============================] - 0s 231ms/step\n",
            "2/2 [==============================] - 0s 249ms/step\n",
            "2/2 [==============================] - 0s 236ms/step\n",
            "2/2 [==============================] - 0s 227ms/step\n",
            "2/2 [==============================] - 0s 217ms/step\n",
            "2/2 [==============================] - 0s 221ms/step\n",
            "2/2 [==============================] - 0s 247ms/step\n",
            "2/2 [==============================] - 0s 223ms/step\n",
            "2/2 [==============================] - 0s 229ms/step\n",
            "2/2 [==============================] - 0s 238ms/step\n",
            "2/2 [==============================] - 0s 237ms/step\n",
            "2/2 [==============================] - 0s 252ms/step\n",
            "2/2 [==============================] - 0s 224ms/step\n",
            "2/2 [==============================] - 0s 219ms/step\n",
            "2/2 [==============================] - 0s 218ms/step\n",
            "2/2 [==============================] - 1s 355ms/step\n",
            "2/2 [==============================] - 1s 369ms/step\n",
            "2/2 [==============================] - 1s 299ms/step\n",
            "2/2 [==============================] - 1s 264ms/step\n",
            "2/2 [==============================] - 1s 242ms/step\n",
            "2/2 [==============================] - 0s 234ms/step\n",
            "2/2 [==============================] - 0s 223ms/step\n",
            "2/2 [==============================] - 0s 222ms/step\n",
            "2/2 [==============================] - 0s 225ms/step\n",
            "2/2 [==============================] - 0s 224ms/step\n",
            "2/2 [==============================] - 0s 231ms/step\n",
            "2/2 [==============================] - 0s 243ms/step\n",
            "2/2 [==============================] - 0s 221ms/step\n",
            "2/2 [==============================] - 0s 228ms/step\n",
            "2/2 [==============================] - 0s 231ms/step\n",
            "2/2 [==============================] - 0s 223ms/step\n",
            "2/2 [==============================] - 0s 234ms/step\n",
            "2/2 [==============================] - 0s 225ms/step\n",
            "2/2 [==============================] - 1s 395ms/step\n",
            "2/2 [==============================] - 1s 357ms/step\n",
            "2/2 [==============================] - 1s 384ms/step\n",
            "2/2 [==============================] - 1s 436ms/step\n",
            "2/2 [==============================] - 0s 232ms/step\n",
            "2/2 [==============================] - 0s 235ms/step\n",
            "2/2 [==============================] - 0s 226ms/step\n",
            "2/2 [==============================] - 0s 223ms/step\n",
            "2/2 [==============================] - 0s 222ms/step\n",
            "2/2 [==============================] - 0s 219ms/step\n",
            "2/2 [==============================] - 0s 225ms/step\n",
            "2/2 [==============================] - 0s 216ms/step\n",
            "2/2 [==============================] - 0s 225ms/step\n",
            "2/2 [==============================] - 0s 242ms/step\n",
            "2/2 [==============================] - 0s 233ms/step\n",
            "2/2 [==============================] - 0s 228ms/step\n",
            "2/2 [==============================] - 0s 219ms/step\n",
            "2/2 [==============================] - 0s 223ms/step\n",
            "2/2 [==============================] - 0s 236ms/step\n",
            "2/2 [==============================] - 0s 228ms/step\n",
            "2/2 [==============================] - 1s 347ms/step\n",
            "2/2 [==============================] - 1s 396ms/step\n",
            "2/2 [==============================] - 1s 381ms/step\n",
            "2/2 [==============================] - 1s 372ms/step\n",
            "2/2 [==============================] - 0s 224ms/step\n",
            "2/2 [==============================] - 0s 221ms/step\n",
            "2/2 [==============================] - 0s 241ms/step\n",
            "2/2 [==============================] - 1s 273ms/step\n",
            "2/2 [==============================] - 0s 221ms/step\n",
            "2/2 [==============================] - 0s 225ms/step\n",
            "2/2 [==============================] - 0s 238ms/step\n",
            "2/2 [==============================] - 0s 217ms/step\n",
            "2/2 [==============================] - 0s 237ms/step\n",
            "2/2 [==============================] - 0s 229ms/step\n",
            "2/2 [==============================] - 0s 229ms/step\n",
            "2/2 [==============================] - 0s 222ms/step\n",
            "2/2 [==============================] - 1s 248ms/step\n",
            "2/2 [==============================] - 1s 229ms/step\n",
            "2/2 [==============================] - 0s 216ms/step\n",
            "2/2 [==============================] - 1s 347ms/step\n",
            "2/2 [==============================] - 1s 426ms/step\n",
            "2/2 [==============================] - 1s 381ms/step\n",
            "2/2 [==============================] - 1s 430ms/step\n",
            "2/2 [==============================] - 1s 422ms/step\n",
            "2/2 [==============================] - 0s 233ms/step\n",
            "2/2 [==============================] - 1s 234ms/step\n",
            "2/2 [==============================] - 1s 242ms/step\n",
            "2/2 [==============================] - 0s 230ms/step\n",
            "2/2 [==============================] - 0s 233ms/step\n",
            "2/2 [==============================] - 0s 226ms/step\n",
            "2/2 [==============================] - 0s 230ms/step\n",
            "2/2 [==============================] - 0s 239ms/step\n",
            "2/2 [==============================] - 0s 231ms/step\n",
            "2/2 [==============================] - 0s 247ms/step\n",
            "2/2 [==============================] - 0s 219ms/step\n",
            "2/2 [==============================] - 0s 223ms/step\n",
            "2/2 [==============================] - 0s 222ms/step\n",
            "2/2 [==============================] - 0s 220ms/step\n",
            "2/2 [==============================] - 0s 248ms/step\n",
            "2/2 [==============================] - 0s 230ms/step\n",
            "2/2 [==============================] - 1s 385ms/step\n",
            "2/2 [==============================] - 1s 357ms/step\n",
            "2/2 [==============================] - 1s 348ms/step\n"
          ]
        }
      ]
    },
    {
      "cell_type": "code",
      "source": [
        "print(f'Precision: {pre.result().numpy()}, Recall: {re.result().numpy()}, Accuracy: {acc.result().numpy()}')"
      ],
      "metadata": {
        "colab": {
          "base_uri": "https://localhost:8080/"
        },
        "id": "j3Rovo7Oqb-R",
        "outputId": "e044c7eb-c492-404b-ae85-b4a974a2d605"
      },
      "execution_count": null,
      "outputs": [
        {
          "output_type": "stream",
          "name": "stdout",
          "text": [
            "Precision: 0.8122542500495911, Recall: 0.0, Accuracy: 0.1927710771560669\n"
          ]
        }
      ]
    },
    {
      "cell_type": "code",
      "source": [
        "!pip install gradio=="
      ],
      "metadata": {
        "colab": {
          "base_uri": "https://localhost:8080/"
        },
        "collapsed": true,
        "id": "oe48SoBi69kP",
        "outputId": "21b72973-36af-430c-e6f0-66f45f3a0c5f"
      },
      "execution_count": null,
      "outputs": [
        {
          "output_type": "stream",
          "name": "stdout",
          "text": [
            "Requirement already satisfied: gradio in /usr/local/lib/python3.10/dist-packages (4.38.1)\n",
            "Requirement already satisfied: jinja2 in /usr/local/lib/python3.10/dist-packages (3.1.4)\n",
            "Requirement already satisfied: aiofiles<24.0,>=22.0 in /usr/local/lib/python3.10/dist-packages (from gradio) (23.2.1)\n",
            "Requirement already satisfied: altair<6.0,>=5.0 in /usr/local/lib/python3.10/dist-packages (from gradio) (5.3.0)\n",
            "Requirement already satisfied: fastapi in /usr/local/lib/python3.10/dist-packages (from gradio) (0.111.1)\n",
            "Requirement already satisfied: ffmpy in /usr/local/lib/python3.10/dist-packages (from gradio) (0.3.2)\n",
            "Requirement already satisfied: gradio-client==1.1.0 in /usr/local/lib/python3.10/dist-packages (from gradio) (1.1.0)\n",
            "Requirement already satisfied: httpx>=0.24.1 in /usr/local/lib/python3.10/dist-packages (from gradio) (0.27.0)\n",
            "Requirement already satisfied: huggingface-hub>=0.19.3 in /usr/local/lib/python3.10/dist-packages (from gradio) (0.23.5)\n",
            "Requirement already satisfied: importlib-resources<7.0,>=1.3 in /usr/local/lib/python3.10/dist-packages (from gradio) (6.4.0)\n",
            "Requirement already satisfied: markupsafe~=2.0 in /usr/local/lib/python3.10/dist-packages (from gradio) (2.1.5)\n",
            "Requirement already satisfied: matplotlib~=3.0 in /usr/local/lib/python3.10/dist-packages (from gradio) (3.7.1)\n",
            "Requirement already satisfied: numpy<3.0,>=1.0 in /usr/local/lib/python3.10/dist-packages (from gradio) (1.25.2)\n",
            "Requirement already satisfied: orjson~=3.0 in /usr/local/lib/python3.10/dist-packages (from gradio) (3.10.6)\n",
            "Requirement already satisfied: packaging in /usr/local/lib/python3.10/dist-packages (from gradio) (24.1)\n",
            "Requirement already satisfied: pandas<3.0,>=1.0 in /usr/local/lib/python3.10/dist-packages (from gradio) (2.0.3)\n",
            "Requirement already satisfied: pillow<11.0,>=8.0 in /usr/local/lib/python3.10/dist-packages (from gradio) (9.4.0)\n",
            "Requirement already satisfied: pydantic>=2.0 in /usr/local/lib/python3.10/dist-packages (from gradio) (2.8.2)\n",
            "Requirement already satisfied: pydub in /usr/local/lib/python3.10/dist-packages (from gradio) (0.25.1)\n",
            "Requirement already satisfied: python-multipart>=0.0.9 in /usr/local/lib/python3.10/dist-packages (from gradio) (0.0.9)\n",
            "Requirement already satisfied: pyyaml<7.0,>=5.0 in /usr/local/lib/python3.10/dist-packages (from gradio) (6.0.1)\n",
            "Requirement already satisfied: ruff>=0.2.2 in /usr/local/lib/python3.10/dist-packages (from gradio) (0.5.3)\n",
            "Requirement already satisfied: semantic-version~=2.0 in /usr/local/lib/python3.10/dist-packages (from gradio) (2.10.0)\n",
            "Requirement already satisfied: tomlkit==0.12.0 in /usr/local/lib/python3.10/dist-packages (from gradio) (0.12.0)\n",
            "Requirement already satisfied: typer<1.0,>=0.12 in /usr/local/lib/python3.10/dist-packages (from gradio) (0.12.3)\n",
            "Requirement already satisfied: typing-extensions~=4.0 in /usr/local/lib/python3.10/dist-packages (from gradio) (4.12.2)\n",
            "Requirement already satisfied: urllib3~=2.0 in /usr/local/lib/python3.10/dist-packages (from gradio) (2.0.7)\n",
            "Requirement already satisfied: uvicorn>=0.14.0 in /usr/local/lib/python3.10/dist-packages (from gradio) (0.30.1)\n",
            "Requirement already satisfied: fsspec in /usr/local/lib/python3.10/dist-packages (from gradio-client==1.1.0->gradio) (2023.6.0)\n",
            "Requirement already satisfied: websockets<12.0,>=10.0 in /usr/local/lib/python3.10/dist-packages (from gradio-client==1.1.0->gradio) (11.0.3)\n",
            "Requirement already satisfied: jsonschema>=3.0 in /usr/local/lib/python3.10/dist-packages (from altair<6.0,>=5.0->gradio) (4.19.2)\n",
            "Requirement already satisfied: toolz in /usr/local/lib/python3.10/dist-packages (from altair<6.0,>=5.0->gradio) (0.12.1)\n",
            "Requirement already satisfied: anyio in /usr/local/lib/python3.10/dist-packages (from httpx>=0.24.1->gradio) (3.7.1)\n",
            "Requirement already satisfied: certifi in /usr/local/lib/python3.10/dist-packages (from httpx>=0.24.1->gradio) (2024.7.4)\n",
            "Requirement already satisfied: httpcore==1.* in /usr/local/lib/python3.10/dist-packages (from httpx>=0.24.1->gradio) (1.0.5)\n",
            "Requirement already satisfied: idna in /usr/local/lib/python3.10/dist-packages (from httpx>=0.24.1->gradio) (3.7)\n",
            "Requirement already satisfied: sniffio in /usr/local/lib/python3.10/dist-packages (from httpx>=0.24.1->gradio) (1.3.1)\n",
            "Requirement already satisfied: h11<0.15,>=0.13 in /usr/local/lib/python3.10/dist-packages (from httpcore==1.*->httpx>=0.24.1->gradio) (0.14.0)\n",
            "Requirement already satisfied: filelock in /usr/local/lib/python3.10/dist-packages (from huggingface-hub>=0.19.3->gradio) (3.15.4)\n",
            "Requirement already satisfied: requests in /usr/local/lib/python3.10/dist-packages (from huggingface-hub>=0.19.3->gradio) (2.31.0)\n",
            "Requirement already satisfied: tqdm>=4.42.1 in /usr/local/lib/python3.10/dist-packages (from huggingface-hub>=0.19.3->gradio) (4.66.4)\n",
            "Requirement already satisfied: contourpy>=1.0.1 in /usr/local/lib/python3.10/dist-packages (from matplotlib~=3.0->gradio) (1.2.1)\n",
            "Requirement already satisfied: cycler>=0.10 in /usr/local/lib/python3.10/dist-packages (from matplotlib~=3.0->gradio) (0.12.1)\n",
            "Requirement already satisfied: fonttools>=4.22.0 in /usr/local/lib/python3.10/dist-packages (from matplotlib~=3.0->gradio) (4.53.1)\n",
            "Requirement already satisfied: kiwisolver>=1.0.1 in /usr/local/lib/python3.10/dist-packages (from matplotlib~=3.0->gradio) (1.4.5)\n",
            "Requirement already satisfied: pyparsing>=2.3.1 in /usr/local/lib/python3.10/dist-packages (from matplotlib~=3.0->gradio) (3.1.2)\n",
            "Requirement already satisfied: python-dateutil>=2.7 in /usr/local/lib/python3.10/dist-packages (from matplotlib~=3.0->gradio) (2.8.2)\n",
            "Requirement already satisfied: pytz>=2020.1 in /usr/local/lib/python3.10/dist-packages (from pandas<3.0,>=1.0->gradio) (2023.4)\n",
            "Requirement already satisfied: tzdata>=2022.1 in /usr/local/lib/python3.10/dist-packages (from pandas<3.0,>=1.0->gradio) (2024.1)\n",
            "Requirement already satisfied: annotated-types>=0.4.0 in /usr/local/lib/python3.10/dist-packages (from pydantic>=2.0->gradio) (0.7.0)\n",
            "Requirement already satisfied: pydantic-core==2.20.1 in /usr/local/lib/python3.10/dist-packages (from pydantic>=2.0->gradio) (2.20.1)\n",
            "Requirement already satisfied: click>=8.0.0 in /usr/local/lib/python3.10/dist-packages (from typer<1.0,>=0.12->gradio) (8.1.7)\n",
            "Requirement already satisfied: shellingham>=1.3.0 in /usr/local/lib/python3.10/dist-packages (from typer<1.0,>=0.12->gradio) (1.5.4)\n",
            "Requirement already satisfied: rich>=10.11.0 in /usr/local/lib/python3.10/dist-packages (from typer<1.0,>=0.12->gradio) (13.7.1)\n",
            "Requirement already satisfied: starlette<0.38.0,>=0.37.2 in /usr/local/lib/python3.10/dist-packages (from fastapi->gradio) (0.37.2)\n",
            "Requirement already satisfied: fastapi-cli>=0.0.2 in /usr/local/lib/python3.10/dist-packages (from fastapi->gradio) (0.0.4)\n",
            "Requirement already satisfied: email_validator>=2.0.0 in /usr/local/lib/python3.10/dist-packages (from fastapi->gradio) (2.2.0)\n",
            "Requirement already satisfied: dnspython>=2.0.0 in /usr/local/lib/python3.10/dist-packages (from email_validator>=2.0.0->fastapi->gradio) (2.6.1)\n",
            "Requirement already satisfied: attrs>=22.2.0 in /usr/local/lib/python3.10/dist-packages (from jsonschema>=3.0->altair<6.0,>=5.0->gradio) (23.2.0)\n",
            "Requirement already satisfied: jsonschema-specifications>=2023.03.6 in /usr/local/lib/python3.10/dist-packages (from jsonschema>=3.0->altair<6.0,>=5.0->gradio) (2023.12.1)\n",
            "Requirement already satisfied: referencing>=0.28.4 in /usr/local/lib/python3.10/dist-packages (from jsonschema>=3.0->altair<6.0,>=5.0->gradio) (0.35.1)\n",
            "Requirement already satisfied: rpds-py>=0.7.1 in /usr/local/lib/python3.10/dist-packages (from jsonschema>=3.0->altair<6.0,>=5.0->gradio) (0.19.0)\n",
            "Requirement already satisfied: six>=1.5 in /usr/local/lib/python3.10/dist-packages (from python-dateutil>=2.7->matplotlib~=3.0->gradio) (1.16.0)\n",
            "Requirement already satisfied: markdown-it-py>=2.2.0 in /usr/local/lib/python3.10/dist-packages (from rich>=10.11.0->typer<1.0,>=0.12->gradio) (3.0.0)\n",
            "Requirement already satisfied: pygments<3.0.0,>=2.13.0 in /usr/local/lib/python3.10/dist-packages (from rich>=10.11.0->typer<1.0,>=0.12->gradio) (2.16.1)\n",
            "Requirement already satisfied: exceptiongroup in /usr/local/lib/python3.10/dist-packages (from anyio->httpx>=0.24.1->gradio) (1.2.2)\n",
            "Requirement already satisfied: httptools>=0.5.0 in /usr/local/lib/python3.10/dist-packages (from uvicorn>=0.14.0->gradio) (0.6.1)\n",
            "Requirement already satisfied: python-dotenv>=0.13 in /usr/local/lib/python3.10/dist-packages (from uvicorn>=0.14.0->gradio) (1.0.1)\n",
            "Requirement already satisfied: uvloop!=0.15.0,!=0.15.1,>=0.14.0 in /usr/local/lib/python3.10/dist-packages (from uvicorn>=0.14.0->gradio) (0.19.0)\n",
            "Requirement already satisfied: watchfiles>=0.13 in /usr/local/lib/python3.10/dist-packages (from uvicorn>=0.14.0->gradio) (0.22.0)\n",
            "Requirement already satisfied: charset-normalizer<4,>=2 in /usr/local/lib/python3.10/dist-packages (from requests->huggingface-hub>=0.19.3->gradio) (3.3.2)\n",
            "Requirement already satisfied: mdurl~=0.1 in /usr/local/lib/python3.10/dist-packages (from markdown-it-py>=2.2.0->rich>=10.11.0->typer<1.0,>=0.12->gradio) (0.1.2)\n"
          ]
        }
      ]
    },
    {
      "cell_type": "code",
      "source": [
        "import tensorflow as tf\n",
        "import gradio as gr"
      ],
      "metadata": {
        "id": "j3g4ygXUq4iY"
      },
      "execution_count": null,
      "outputs": []
    },
    {
      "cell_type": "code",
      "source": [
        "model.save('toxicityDetector.h5')"
      ],
      "metadata": {
        "colab": {
          "base_uri": "https://localhost:8080/"
        },
        "id": "6JDqlAvdq_el",
        "outputId": "c23bb707-58bd-425a-ba64-9d7c1cb85c35"
      },
      "execution_count": null,
      "outputs": [
        {
          "output_type": "stream",
          "name": "stderr",
          "text": [
            "/usr/local/lib/python3.10/dist-packages/keras/src/engine/training.py:3103: UserWarning: You are saving your model as an HDF5 file via `model.save()`. This file format is considered legacy. We recommend using instead the native Keras format, e.g. `model.save('my_model.keras')`.\n",
            "  saving_api.save_model(\n"
          ]
        }
      ]
    },
    {
      "cell_type": "code",
      "source": [
        "model = tf.keras.models.load_model('toxicityDetector.h5')"
      ],
      "metadata": {
        "id": "Qy95edibrGaX"
      },
      "execution_count": null,
      "outputs": []
    },
    {
      "cell_type": "code",
      "source": [
        "inputStr = vectorizer('Your intelligence is my common sense')"
      ],
      "metadata": {
        "id": "aLDJzckyrTjU"
      },
      "execution_count": null,
      "outputs": []
    },
    {
      "cell_type": "code",
      "source": [
        "res = model.predict(np.expand_dims(inputStr, 0))"
      ],
      "metadata": {
        "colab": {
          "base_uri": "https://localhost:8080/"
        },
        "id": "zA2kIqayroUQ",
        "outputId": "01796011-d80b-4dca-8f0c-53e788c5ca40"
      },
      "execution_count": null,
      "outputs": [
        {
          "output_type": "stream",
          "name": "stdout",
          "text": [
            "1/1 [==============================] - 1s 1s/step\n"
          ]
        }
      ]
    },
    {
      "cell_type": "code",
      "source": [
        "res"
      ],
      "metadata": {
        "colab": {
          "base_uri": "https://localhost:8080/"
        },
        "id": "dpFw-cLur0CL",
        "outputId": "14f3a23a-98ac-4147-bb63-075f9e40c211"
      },
      "execution_count": null,
      "outputs": [
        {
          "output_type": "execute_result",
          "data": {
            "text/plain": [
              "array([[4.0890370e-02, 9.9140343e-05, 3.5387066e-03, 8.9672097e-04,\n",
              "        9.8835602e-03, 1.5751611e-03]], dtype=float32)"
            ]
          },
          "metadata": {},
          "execution_count": 59
        }
      ]
    },
    {
      "cell_type": "code",
      "source": [
        "def scoreComment(comment):\n",
        "  vectorizedComment = vectorizer([comment])\n",
        "  results = model.predict(vectorizedComment)\n",
        "  text = ''\n",
        "  for idx, col in enumerate(dataset.columns[2:]):\n",
        "    text += '{}: {}\\n'.format(col, results[0][idx]>0.5)\n",
        "  return text"
      ],
      "metadata": {
        "id": "PDewIebpr1xR"
      },
      "execution_count": null,
      "outputs": []
    },
    {
      "cell_type": "code",
      "source": [
        "interface = gr.Interface(fn=scoreComment, inputs=gr.Textbox(lines=2, placeholder='Comment to score'), outputs='text')"
      ],
      "metadata": {
        "id": "iA137HEssanO"
      },
      "execution_count": null,
      "outputs": []
    },
    {
      "cell_type": "code",
      "source": [
        "interface.launch(share=True)"
      ],
      "metadata": {
        "colab": {
          "base_uri": "https://localhost:8080/",
          "height": 611
        },
        "id": "Lnf2aXLDs0im",
        "outputId": "87c64569-4596-4330-a9e7-7af8449c481b"
      },
      "execution_count": null,
      "outputs": [
        {
          "output_type": "stream",
          "name": "stdout",
          "text": [
            "Colab notebook detected. To show errors in colab notebook, set debug=True in launch()\n",
            "Running on public URL: https://e321287f4ecf07cdaa.gradio.live\n",
            "\n",
            "This share link expires in 72 hours. For free permanent hosting and GPU upgrades, run `gradio deploy` from Terminal to deploy to Spaces (https://huggingface.co/spaces)\n"
          ]
        },
        {
          "output_type": "display_data",
          "data": {
            "text/plain": [
              "<IPython.core.display.HTML object>"
            ],
            "text/html": [
              "<div><iframe src=\"https://e321287f4ecf07cdaa.gradio.live\" width=\"100%\" height=\"500\" allow=\"autoplay; camera; microphone; clipboard-read; clipboard-write;\" frameborder=\"0\" allowfullscreen></iframe></div>"
            ]
          },
          "metadata": {}
        },
        {
          "output_type": "execute_result",
          "data": {
            "text/plain": []
          },
          "metadata": {},
          "execution_count": 66
        }
      ]
    }
  ]
}